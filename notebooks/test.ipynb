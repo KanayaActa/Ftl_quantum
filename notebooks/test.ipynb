{
 "cells": [
  {
   "cell_type": "markdown",
   "id": "6554de6c",
   "metadata": {},
   "source": [
    "### Display Circuit Test"
   ]
  },
  {
   "cell_type": "code",
   "execution_count": null,
   "id": "876ab760",
   "metadata": {
    "vscode": {
     "languageId": "plaintext"
    }
   },
   "outputs": [],
   "source": [
    "import numpy as np\n",
    "from qiskit import QuantumCircuit\n",
    "qc = QuantumCircuit(2)\n",
    "qc.x(0)\n",
    "qc.h([0,1])\n",
    "qc.rx(theta=np.pi/4,qubit=0)\n",
    "qc.cx(0,1) # CNOT\n",
    "qc.measure_all() # Measure all qubits\n",
    "qc.draw(\"mpl\")\n"
   ]
  }
 ],
 "metadata": {
  "language_info": {
   "name": "python"
  }
 },
 "nbformat": 4,
 "nbformat_minor": 5
}
