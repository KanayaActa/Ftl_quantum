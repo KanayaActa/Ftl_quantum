{
 "cells": [
  {
   "cell_type": "markdown",
   "id": "628fd400",
   "metadata": {},
   "source": [
    "### Deutsch-Jozsa"
   ]
  },
  {
   "cell_type": "code",
   "execution_count": 29,
   "id": "b0ba3f13",
   "metadata": {
    "vscode": {
     "languageId": "plaintext"
    }
   },
   "outputs": [],
   "source": [
    "from qiskit import QuantumCircuit, transpile\n",
    "from qiskit_aer import AerSimulator\n",
    "from qiskit.visualization import plot_histogram\n",
    "import matplotlib.pyplot as plt"
   ]
  },
  {
   "cell_type": "code",
   "execution_count": 30,
   "id": "cdb52961",
   "metadata": {
    "vscode": {
     "languageId": "plaintext"
    }
   },
   "outputs": [],
   "source": [
    "def build_oracle(n: int, kind: str) -> QuantumCircuit:\n",
    "    \"\"\"\n",
    "    n   : 問題量子ビットの数\n",
    "    kind: 'const_0', 'const_1', 'balanced_parity', 'balanced_subset'\n",
    "    \"\"\"\n",
    "    oracle = QuantumCircuit(n + 1)          # 問題 n + 補助 1\n",
    "\n",
    "    if kind == \"const_0\":\n",
    "        # 何もしない（常に 0）――  U_f |x>|y> = |x>|y>\n",
    "        pass\n",
    "\n",
    "    elif kind == \"const_1\":\n",
    "        # 常に 1 ―― U_f |x>|y> = |x>|y ⊕ 1>\n",
    "        oracle.x(n)                         # 補助量子に X\n",
    "\n",
    "    elif kind == \"balanced_parity\":\n",
    "        # f(x) = x0 ⊕ x1 ⊕ … ⊕ x{n-1}  （偶奇パリティ）\n",
    "        # 多重制御 X (MCX) でまとめても良いが，単純に CX を列挙\n",
    "        for i in range(n):\n",
    "            oracle.cx(i, n)                 # 各問題量子を制御にして補助量子へ\n",
    "\n",
    "    elif kind == \"balanced_subset\":\n",
    "        # 例: f(x) = x0 （入力の 1 ビット目そのもの）\n",
    "        oracle.cx(0, n)                     # q0 を制御に CX\n",
    "\n",
    "    else:\n",
    "        raise ValueError(\"unknown oracle kind\")\n",
    "\n",
    "    oracle.name = f\"U_f({kind})\"\n",
    "    return oracle\n"
   ]
  },
  {
   "cell_type": "code",
   "execution_count": 31,
   "id": "c8ee0b33",
   "metadata": {
    "vscode": {
     "languageId": "plaintext"
    }
   },
   "outputs": [],
   "source": [
    "def deutsch_jozsa_circuit(n: int, oracle_kind: str) -> QuantumCircuit:\n",
    "    qc = QuantumCircuit(n + 1, n)\n",
    "\n",
    "    # ①初期化 |0…0⟩|1⟩\n",
    "    qc.x(n)\n",
    "    qc.h(n)\n",
    "\n",
    "    # ②問題量子ビットを |+⟩ に\n",
    "    qc.h(range(n))\n",
    "\n",
    "    # ③オラクル\n",
    "    oracle = build_oracle(n, oracle_kind).to_gate()\n",
    "    qc.append(oracle, qc.qubits)\n",
    "\n",
    "    # ④再び H を各問題量子に\n",
    "    qc.h(range(n))\n",
    "\n",
    "    # ⑤測定\n",
    "    qc.measure(range(n), range(n))\n",
    "    return qc\n"
   ]
  },
  {
   "cell_type": "code",
   "execution_count": 32,
   "id": "6c9efac2-66e0-4046-9aea-5b07115862c8",
   "metadata": {},
   "outputs": [],
   "source": [
    "def run_dj(n: int, oracle_kind: str, shots: int = 1024):\n",
    "    qc = deutsch_jozsa_circuit(n, oracle_kind)\n",
    "    # display(qc.draw(\"mpl\", style=\"iqp\"))    # 回路図\n",
    "\n",
    "    sim = AerSimulator() \n",
    "    tqc = transpile(qc, sim)\n",
    "    result = sim.run(tqc, shots=shots).result()  # ← 追加\n",
    "    counts = result.get_counts()  \n",
    "\n",
    "    # 判定ロジック\n",
    "    key = max(counts, key=counts.get)        # 最頻値\n",
    "    if key == \"0\"*n:\n",
    "        print(\"→ oracle is CONSTANT\")\n",
    "    else:\n",
    "        print(\"→ oracle is BALANCED\")\n"
   ]
  },
  {
   "cell_type": "code",
   "execution_count": 33,
   "id": "b3e76318",
   "metadata": {},
   "outputs": [
    {
     "name": "stdout",
     "output_type": "stream",
     "text": [
      "→ oracle is CONSTANT\n",
      "→ oracle is CONSTANT\n",
      "→ oracle is BALANCED\n",
      "→ oracle is BALANCED\n"
     ]
    }
   ],
   "source": [
    "n = 3            # 問題量子ビット数（指示に合わせて 3）\n",
    "run_dj(n, \"const_0\")          # 常に 0\n",
    "run_dj(n, \"const_1\")          # 常に 1\n",
    "run_dj(n, \"balanced_parity\")  # XOR\n",
    "run_dj(n, \"balanced_subset\")  # 先頭ビットだけ\n"
   ]
  },
  {
   "cell_type": "code",
   "execution_count": null,
   "id": "21e07cd0-e9f5-4717-8808-6e2262842acb",
   "metadata": {},
   "outputs": [],
   "source": []
  }
 ],
 "metadata": {
  "kernelspec": {
   "display_name": "Python 3 (ipykernel)",
   "language": "python",
   "name": "python3"
  },
  "language_info": {
   "codemirror_mode": {
    "name": "ipython",
    "version": 3
   },
   "file_extension": ".py",
   "mimetype": "text/x-python",
   "name": "python",
   "nbconvert_exporter": "python",
   "pygments_lexer": "ipython3",
   "version": "3.10.18"
  }
 },
 "nbformat": 4,
 "nbformat_minor": 5
}
