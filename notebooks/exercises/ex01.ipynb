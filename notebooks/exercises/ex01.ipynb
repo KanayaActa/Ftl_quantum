{
 "cells": [
  {
   "cell_type": "markdown",
   "id": "98452fda",
   "metadata": {},
   "source": [
    "### Token"
   ]
  },
  {
   "cell_type": "code",
   "execution_count": 1,
   "id": "194e3465",
   "metadata": {
    "vscode": {
     "languageId": "plaintext"
    }
   },
   "outputs": [
    {
     "name": "stderr",
     "output_type": "stream",
     "text": [
      "/tmp/ipykernel_19/857331883.py:3: DeprecationWarning: The \"ibm_quantum\" channel option is deprecated and will be sunset on 1 July. After this date, \"ibm_cloud\", \"ibm_quantum_platform\", and \"local\" will be the only valid channels. Open Plan users should migrate now.  All other users should review the migration guide (https://quantum.cloud.ibm.com/docs/migration-guides/classic-iqp-to-cloud-iqp)to learn when to migrate.\n",
      "  service = QiskitRuntimeService()\n"
     ]
    },
    {
     "name": "stdout",
     "output_type": "stream",
     "text": [
      "Simulated quantum computers:\n",
      "\n",
      "Real quantum computers:\n",
      "  - ibm_brisbane: Qubits = 127, Queue = 5\n",
      "  - ibm_sherbrooke: Qubits = 127, Queue = 3\n"
     ]
    }
   ],
   "source": [
    "from qiskit_ibm_runtime import QiskitRuntimeService\n",
    "\n",
    "service = QiskitRuntimeService()\n",
    "\n",
    "print(\"Simulated quantum computers:\")\n",
    "for backend in service.backends(simulator=True):\n",
    "    print(f\"  - {backend.name}: Qubits = {backend.num_qubits}, Queue = {backend.status().pending_jobs}\")\n",
    "\n",
    "print(\"\\nReal quantum computers:\")\n",
    "for backend in service.backends(simulator=False):\n",
    "    print(f\"  - {backend.name}: Qubits = {backend.num_qubits}, Queue = {backend.status().pending_jobs}\")\n"
   ]
  },
  {
   "cell_type": "code",
   "execution_count": null,
   "id": "5ee69eeb-2838-4ebd-958f-e230fa60785d",
   "metadata": {},
   "outputs": [],
   "source": []
  }
 ],
 "metadata": {
  "kernelspec": {
   "display_name": "Python 3 (ipykernel)",
   "language": "python",
   "name": "python3"
  },
  "language_info": {
   "codemirror_mode": {
    "name": "ipython",
    "version": 3
   },
   "file_extension": ".py",
   "mimetype": "text/x-python",
   "name": "python",
   "nbconvert_exporter": "python",
   "pygments_lexer": "ipython3",
   "version": "3.10.18"
  }
 },
 "nbformat": 4,
 "nbformat_minor": 5
}
