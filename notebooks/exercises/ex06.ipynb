{
 "cells": [
  {
   "cell_type": "markdown",
   "id": "c85b5a7d",
   "metadata": {},
   "source": [
    "### Grover Search"
   ]
  },
  {
   "cell_type": "code",
   "execution_count": 1,
   "id": "36a4c671",
   "metadata": {
    "vscode": {
     "languageId": "plaintext"
    }
   },
   "outputs": [],
   "source": [
    "from qiskit import QuantumCircuit, transpile\n",
    "from qiskit_aer import AerSimulator\n",
    "from qiskit.visualization import plot_histogram\n",
    "import matplotlib.pyplot as plt\n",
    "import math"
   ]
  },
  {
   "cell_type": "code",
   "execution_count": 2,
   "id": "94e7875a",
   "metadata": {
    "vscode": {
     "languageId": "plaintext"
    }
   },
   "outputs": [],
   "source": [
    "# --- 1. 例として：|101> をヒットさせる 3量子ビット用オラクル -------------------\n",
    "def build_oracle(n: int, target_state: str = \"101\") -> QuantumCircuit:\n",
    "    \"\"\"\n",
    "    n            : 量子ビット数\n",
    "    target_state : 文字列 '0'/'1' の列で指定（長さ n）\n",
    "    指定ビット列と一致する場合に位相を π 反転する Z ゲート系列\n",
    "    \"\"\"\n",
    "    if len(target_state) != n:\n",
    "        raise ValueError(\"length of target_state must equal n\")\n",
    "\n",
    "    oracle = QuantumCircuit(n)\n",
    "\n",
    "    # 0 の箇所は X を当てて |111…> に写像して制御多重 Z（MCZ）をかける\n",
    "    for i, bit in enumerate(reversed(target_state)):\n",
    "        if bit == '0':\n",
    "            oracle.x(i)\n",
    "\n",
    "    oracle.h(n-1)           # 最上位をターゲットにした MCZ を CCX 等で代用\n",
    "    oracle.mcx(list(range(n-1)), n-1)\n",
    "    oracle.h(n-1)\n",
    "\n",
    "    # 0 を写像するために入れた X を戻す\n",
    "    for i, bit in enumerate(reversed(target_state)):\n",
    "        if bit == '0':\n",
    "            oracle.x(i)\n",
    "\n",
    "    oracle.name = f\"Oracle(|{target_state}⟩)\"\n",
    "    return oracle"
   ]
  },
  {
   "cell_type": "code",
   "execution_count": 3,
   "id": "1b60738e",
   "metadata": {
    "vscode": {
     "languageId": "plaintext"
    }
   },
   "outputs": [],
   "source": [
    "def diffuser(n: int) -> QuantumCircuit:\n",
    "    diff = QuantumCircuit(n)\n",
    "\n",
    "    diff.h(range(n))\n",
    "    diff.x(range(n))\n",
    "\n",
    "    diff.h(n-1)\n",
    "    diff.mcx(list(range(n-1)), n-1)\n",
    "    diff.h(n-1)\n",
    "\n",
    "    diff.x(range(n))\n",
    "    diff.h(range(n))\n",
    "\n",
    "    diff.name = \"Diffuser\"\n",
    "    return diff"
   ]
  },
  {
   "cell_type": "code",
   "execution_count": 4,
   "id": "e6dea602",
   "metadata": {
    "vscode": {
     "languageId": "plaintext"
    }
   },
   "outputs": [],
   "source": [
    "def grover_circuit(n: int, oracle_gate: QuantumCircuit, shots: int = 1024) -> QuantumCircuit:\n",
    "    qc = QuantumCircuit(n, n)\n",
    "\n",
    "    # ① 初期化：|+⟩^⊗n\n",
    "    qc.h(range(n))\n",
    "\n",
    "    # ② 反復回数 k ≈ π/4 * √N （ターゲット1個想定）\n",
    "    k = round(math.pi / 4 * math.sqrt(2**n))\n",
    "    for _ in range(k):\n",
    "        qc.append(oracle_gate.to_gate(), range(n))\n",
    "        qc.append(diffuser(n).to_gate(), range(n))\n",
    "\n",
    "    # ③ 測定\n",
    "    qc.measure(range(n), range(n))\n",
    "    return qc"
   ]
  },
  {
   "cell_type": "code",
   "execution_count": 5,
   "id": "eceb50d7",
   "metadata": {
    "vscode": {
     "languageId": "plaintext"
    }
   },
   "outputs": [],
   "source": [
    "def run_grover(n: int, target_state: str, shots: int = 1024):\n",
    "    oracle  = build_oracle(n, target_state)\n",
    "    qc      = grover_circuit(n, oracle, shots)\n",
    "\n",
    "    display(qc.draw(\"mpl\", style=\"iqp\"))            # 回路図\n",
    "\n",
    "    sim     = AerSimulator()\n",
    "    tqc     = transpile(qc, sim)\n",
    "    result  = sim.run(tqc, shots=shots).result()\n",
    "    counts  = result.get_counts()\n",
    "\n",
    "    plot_histogram(counts, title=f\"Grover result – target |{target_state}⟩\")\n",
    "    plt.show()\n",
    "\n",
    "    guess = max(counts, key=counts.get)\n",
    "    print(f\"→ measured: |{guess}⟩  (expected |{target_state}⟩)  success_ratio={counts[guess]/shots:.2%}\")\n"
   ]
  },
  {
   "cell_type": "code",
   "execution_count": 6,
   "id": "58786936",
   "metadata": {
    "vscode": {
     "languageId": "plaintext"
    }
   },
   "outputs": [
    {
     "data": {
      "image/png": "[encoded data removed]",
      "text/plain": [
       "<Figure size 1290.83x367.889 with 1 Axes>"
      ]
     },
     "metadata": {},
     "output_type": "display_data"
    },
    {
     "name": "stdout",
     "output_type": "stream",
     "text": [
      "→ measured: |101⟩  (expected |101⟩)  success_ratio=94.24%\n"
     ]
    }
   ],
   "source": [
    "n_qubits = 3\n",
    "run_grover(n_qubits, target_state=\"101\")"
   ]
  },
  {
   "cell_type": "code",
   "execution_count": null,
   "id": "f59f5656-1070-4265-b342-2086603a13bf",
   "metadata": {},
   "outputs": [],
   "source": []
  }
 ],
 "metadata": {
  "kernelspec": {
   "display_name": "Python 3 (ipykernel)",
   "language": "python",
   "name": "python3"
  },
  "language_info": {
   "codemirror_mode": {
    "name": "ipython",
    "version": 3
   },
   "file_extension": ".py",
   "mimetype": "text/x-python",
   "name": "python",
   "nbconvert_exporter": "python",
   "pygments_lexer": "ipython3",
   "version": "3.10.18"
  }
 },
 "nbformat": 4,
 "nbformat_minor": 5
}
