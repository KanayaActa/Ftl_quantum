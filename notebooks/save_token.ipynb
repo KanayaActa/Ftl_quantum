{
 "cells": [
  {
   "cell_type": "markdown",
   "id": "9b7e8e55",
   "metadata": {},
   "source": [
    "### This operation will overwrite the account."
   ]
  },
  {
   "cell_type": "code",
   "execution_count": 2,
   "id": "b2e6e981",
   "metadata": {
    "vscode": {
     "languageId": "plaintext"
    }
   },
   "outputs": [],
   "source": [
    "from qiskit_ibm_runtime import QiskitRuntimeService\n",
    "from dotenv import load_dotenv\n",
    "import os\n",
    "\n",
    "# Load token and instance from .env\n",
    "load_dotenv()\n",
    "token = os.getenv(\"IBMQ_TOKEN\")\n",
    "\n",
    "# Save token\n",
    "QiskitRuntimeService.save_account(\n",
    "  token=token,\n",
    "  channel=\"ibm_quantum\",\n",
    "  overwrite=True\n",
    ")\n"
   ]
  },
  {
   "cell_type": "code",
   "execution_count": null,
   "id": "5d9a3d09",
   "metadata": {
    "vscode": {
     "languageId": "plaintext"
    }
   },
   "outputs": [],
   "source": []
  },
  {
   "cell_type": "code",
   "execution_count": null,
   "id": "420fd7d0-0dc0-4bc8-9c2e-043f0e0c51ac",
   "metadata": {},
   "outputs": [],
   "source": []
  }
 ],
 "metadata": {
  "kernelspec": {
   "display_name": "Python 3 (ipykernel)",
   "language": "python",
   "name": "python3"
  },
  "language_info": {
   "codemirror_mode": {
    "name": "ipython",
    "version": 3
   },
   "file_extension": ".py",
   "mimetype": "text/x-python",
   "name": "python",
   "nbconvert_exporter": "python",
   "pygments_lexer": "ipython3",
   "version": "3.10.18"
  }
 },
 "nbformat": 4,
 "nbformat_minor": 5
}
